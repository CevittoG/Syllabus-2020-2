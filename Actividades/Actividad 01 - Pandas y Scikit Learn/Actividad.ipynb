{
 "cells": [
  {
   "cell_type": "markdown",
   "metadata": {},
   "source": [
    "# Actividad 01: Pandas y Scikit Learn\n",
    "\n",
    "Durante esta actividad trabajaremos con los datos del Sistema Nacional de Información Municipal del gobierno de Chile. Vamos a trabajar con dos fuentes de datos:\n",
    "\n",
    "- Un archivo `.csv` llamado `presupuesto_2019.csv`, que contiene información sobre el presupuesto municipal, para cada una de las comunas de Chile. \n",
    "- Un archivo `.csv` llamado `datos_comunas.csv` que contiene la información sobre, los metros de plazas y los metros de parques de cada municipalidad. Además, existe información sobre la cantidad de personas que trabajan en ese municipio. Para ver la diferencia entre parques y plazas, pensar en que el Cerro San Cristóbal es un parque, y que la Plaza de Armas es una plaza.\n",
    "\n",
    "La idea de este control es hacer un análisis de datos en torno a la siguiente pregunta:\n",
    "\n",
    "> ¿Cómo se relacionan los metros de áreas verdes y el tamaño del personal de las municipalidades con su presupuesto?\n",
    "\n",
    "Para la parte obligatoria de esta tarea trabajaremos solo con las áreas verdes. Dejamos el trabajo con el personal como un ejercicio propuesto.\n",
    "\n",
    "## Tareas a realizar\n",
    "\n",
    "En esta actividad debes hacer una regresión lineal en base a los datos que te entregamos. Ten cuidado: puede ser que los datos estén sucios, pues son llenados por humanos. Es tu responsabilidad limpiar esos datos: para las siguientes tareas no debes tomar en cuenta datos nulos o que no han sido reportados (aunque eso signifique dejar fuera algunas comunas).\n",
    "\n",
    "### Parte 1 - Entendiendo los datos \\[3.5 pts\\]\n",
    "\n",
    "Primero vamos a cargar los _datasets_ y entenderlos mediante visualizaciones. En esta parte tienes las siguientes tareas:\n",
    "\n",
    "- Carga los archivos `.csv` con Pandas como `DataFrames`.\n",
    "- Crea un gráfico de puntos para visualizar la correlación entre el presupuesto de las comunas y la superficie en metros cuadrados de plazas con la que cuentan esas comunas. Entrega el coeficiente de correlación entre esos dos campos. \n",
    "- Crea un gráfico de puntos para visualizar la correlación entre el presupuesto de las comunas y la superficie en metros cuadrados **total** de áreas verdes, es decir, sumando plazas con parques. Entrega el coeficiente de correlación entre esos dos campos.\n",
    "- En base a esos dos experimentos, argumenta qué campo es mejor para ser utilizado en una regresión: la superficie de plazas o la superficie de plazas sumadas con parques.\n",
    "\n",
    "Además debes describir los pasos que sigues en cada uno de los puntos.\n",
    "\n",
    "\n",
    "### Parte 2 - Regresión lineal \\[2.5 pts\\]\n",
    "\n",
    "Sea $S$ el indicador de superficie que elegiste en la parte anterior (ya sea plazas o suma de plazas con parques). Entrega un modelo de regresión que te permita predecir el presupuesto de una comuna, en función de $S$. Luego muestra los resultados de validar tu modelo con _cross-validation_, dividiendo el _dataset_ en 5 partes iguales.\n",
    "\n",
    "Luego discute el rendimiento de tu modelo. ¿Crees que es bueno? ¿Crees que puede mejorar?\n",
    "\n",
    "### Parte 3 (Bonus) - Regresión multivariable \\[0.5 pts\\]\n",
    "\n",
    "Busca como implementar una regresión cuando la respuesta depende de más de un parámetro. Ajusta ahora un modelo en el que el presupuesto no depende solo de los metros cuadrados de áreas verdes, sino que también del número de personas que trabaja en esa municipalidad. ¿Crees que tu modelo quedó mejor? ¿Cómo podrías probarlo?\n",
    "Además, en caso de que mejore el rendimiento, te recomendamos revisar algunos outliers del dataset de áreas verdes (como ciertas municipalidades que tienen parques demasiado grandes). \n",
    "\n",
    "## Detalles académicos\n",
    "\n",
    "Este control es individual. La entrega de este control debe ser un archivo comprimido donde se encuentre un **Jupyter Notebook**, junto a cualquier archivo .csv que estés llamando desde tu código. **La fecha de entrega es hasta miércoles 2 de septiembre, hasta las 11:00 am, cualquier entrega después de este plazo será calificada con la nota mínima**. La nota se calcula como el número de puntos + un punto base. El archivo comprimido se entrega en un cuestionario de Webcursos."
   ]
  },
  {
   "cell_type": "markdown",
   "metadata": {},
   "source": [
    " # Solución\n",
    " \n",
    " _Comienza la solución de tu tarea aquí._"
   ]
  },
  {
   "cell_type": "code",
   "execution_count": null,
   "metadata": {},
   "outputs": [],
   "source": []
  }
 ],
 "metadata": {
  "kernelspec": {
   "display_name": "Python 3",
   "language": "python",
   "name": "python3"
  },
  "language_info": {
   "codemirror_mode": {
    "name": "ipython",
    "version": 3
   },
   "file_extension": ".py",
   "mimetype": "text/x-python",
   "name": "python",
   "nbconvert_exporter": "python",
   "pygments_lexer": "ipython3",
   "version": "3.8.5"
  }
 },
 "nbformat": 4,
 "nbformat_minor": 4
}
